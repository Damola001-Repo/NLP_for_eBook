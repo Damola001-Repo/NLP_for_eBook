{
 "cells": [
  {
   "cell_type": "markdown",
   "id": "05de90ff-fb29-49da-ab5b-71b1996d5764",
   "metadata": {},
   "source": [
    "# Load the book"
   ]
  },
  {
   "cell_type": "code",
   "execution_count": 4,
   "id": "68cfe184-231e-4c0f-bfec-4fc329290bc4",
   "metadata": {},
   "outputs": [],
   "source": [
    "with open('miracle_in_the_andes.txt', encoding='utf-8') as file:\n",
    "    book = file.read()"
   ]
  },
  {
   "cell_type": "markdown",
   "id": "cf8d068b-858c-4114-96ea-5849edbce020",
   "metadata": {},
   "source": [
    "# Extract the paragraphs where love was use"
   ]
  },
  {
   "cell_type": "code",
   "execution_count": 7,
   "id": "37174364-c7b0-499b-9a3c-41ee20c5d28d",
   "metadata": {},
   "outputs": [
    {
     "data": {
      "text/plain": [
       "['To me, this is the essence of rugby. No other sport gives you such an intense sense of selflessness and unified purpose. I believe this is why rugby players all over the world feel such a passion for the game and such a feeling of brotherhood. As a young man, of course, I could not put these things into words, but I knew, and my teammates knew, that there was something special about the game, and under the guidance of the Christian Brothers we developed a passionate love for the sport that shaped our friendships and our lives. For eight years we played our hearts out for the Christian Brothers—a brotherhood of young boys with Latin names, playing a game with deep Anglo roots under Uruguay’s sunny skies, and proudly wearing the bright green shamrock on our uniforms. The game became so much a part of our lives, in fact, that when we graduated from Stella Maris at the age of sixteen, many of us could not bear the thought that our playing days were over. Our salvation came in the form of the Old Christians Club, a private rugby team formed in 1965 by previous alumni of the Stella Maris rugby program to give Stella Maris ruggers a chance to continue playing the game after our school years ended.',\n",
       " 'There were others—Alexis Hounie, Gastón Costemalle, Daniel Shaw—all of them great players and all of them my friends. But my oldest friend was Guido Magri. He and I had met on my first day at the Stella Maris School—I was eight years old and Guido was one year older—and we had been inseparable ever since. Guido and I grew up together, playing soccer and sharing a love of motorcycles, cars, and auto racing. When I was fifteen we both had mopeds that we had modified in silly ways—removing the mufflers, turn signals, and fenders—and we would ride them to Las Delicias, a famous ice cream parlor in our neighborhood, where we would drool over the girls from the nearby School Sagrado Corazón, hoping to impress them with our souped-up scooters. Guido was a dependable friend, with a good sense of humor and an easy laugh. He was also an outstanding scrum half, as quick and smart as a fox, with good hands and great courage. Under the guidance of the Christian Brothers, both of us grew to love the game of rugby with a consuming passion. As seasons passed we worked hard to improve our skills, and by the time I was fifteen we had each earned a spot on the Stella Maris First XV, the team’s starting lineup. After graduation, both of us went on to join the Old Christians and spent several happy seasons pursuing the high-octane social life of young rugby players. That rowdiness came to an abrupt end for Guido in 1969, when he met and fell in love with the beautiful daughter of a Chilean diplomat. She was now his fiancée, and he was happy to behave himself for her sake.']"
      ]
     },
     "execution_count": 7,
     "metadata": {},
     "output_type": "execute_result"
    }
   ],
   "source": [
    "import re\n",
    "\n",
    "pattern = re.compile('[^\\n]+love[^\\n]+')\n",
    "findings = re.findall(pattern, book)\n",
    "findings[:2]"
   ]
  },
  {
   "cell_type": "markdown",
   "id": "37751c2f-539a-4493-85c4-6d5fa39573b8",
   "metadata": {},
   "source": [
    "# Extract the chapters titles"
   ]
  },
  {
   "cell_type": "code",
   "execution_count": 21,
   "id": "266ff5f6-e11f-49f6-bed2-3b4d51b87e96",
   "metadata": {},
   "outputs": [
    {
     "data": {
      "text/plain": [
       "['Before',\n",
       " 'Precious',\n",
       " 'Promise',\n",
       " 'More',\n",
       " 'Abandoned',\n",
       " 'Tomb',\n",
       " 'East',\n",
       " 'Death',\n",
       " 'Man',\n",
       " 'After']"
      ]
     },
     "execution_count": 21,
     "metadata": {},
     "output_type": "execute_result"
    }
   ],
   "source": [
    "pattern = re.compile(\"[a-zA-Z]+\\n\\n\")\n",
    "findings = re.findall(pattern, book)\n",
    "findings = [word.strip('\\n\\n') for word in findings]\n",
    "findings"
   ]
  },
  {
   "cell_type": "markdown",
   "id": "a8b7ea18-364a-4a98-a772-e572981fa3df",
   "metadata": {},
   "source": [
    "# Function that finds the occurence of any word"
   ]
  },
  {
   "cell_type": "markdown",
   "id": "63c0887d-a421-4512-a085-d220c37b7d4e",
   "metadata": {},
   "source": [
    "### My method"
   ]
  },
  {
   "cell_type": "code",
   "execution_count": 42,
   "id": "b3d6d154-5c58-4486-9192-2aeb110e7733",
   "metadata": {},
   "outputs": [
    {
     "name": "stdout",
     "output_type": "stream",
     "text": [
      "The book does not contain the word te\n"
     ]
    }
   ],
   "source": [
    "def find_occurence(word):\n",
    "    pattern = re.compile('[a-zA-Z]+')\n",
    "    findings = re.findall(pattern, book.lower())\n",
    "    count = 0\n",
    "    for occurence_word in findings:\n",
    "        if occurence_word == word:\n",
    "            count = count + 1\n",
    "    if count < 1:\n",
    "        print(f\"The book does not contain the word {word}\")\n",
    "    else:\n",
    "        print(count)\n",
    "find_occurence('te')"
   ]
  },
  {
   "cell_type": "markdown",
   "id": "22c9a626-09e4-499d-a6c1-43560408afcb",
   "metadata": {},
   "source": [
    "### Another method"
   ]
  },
  {
   "cell_type": "code",
   "execution_count": 41,
   "id": "d202aac5-5bd2-485a-ace5-a064d235fbf6",
   "metadata": {},
   "outputs": [
    {
     "data": {
      "text/plain": [
       "'The book does not contain the word te'"
      ]
     },
     "execution_count": 41,
     "metadata": {},
     "output_type": "execute_result"
    }
   ],
   "source": [
    "def get_occurence(word):\n",
    "    pattern = re.compile('[a-zA-Z]+')\n",
    "    findings = re.findall(pattern, book.lower())\n",
    "    d = {}\n",
    "    for found_word in findings:\n",
    "        if found_word in d.keys():\n",
    "            d[found_word] = d[found_word] + 1\n",
    "        else:\n",
    "            d[found_word] = 1\n",
    "    try:\n",
    "        return d[word]\n",
    "    except KeyError:\n",
    "        return f\"The book does not contain the word {word}\"\n",
    "\n",
    "get_occurence('te')"
   ]
  },
  {
   "cell_type": "code",
   "execution_count": null,
   "id": "d3fca760-480b-474c-b6ec-978fd13bcf23",
   "metadata": {},
   "outputs": [],
   "source": []
  }
 ],
 "metadata": {
  "kernelspec": {
   "display_name": "Python 3 (ipykernel)",
   "language": "python",
   "name": "python3"
  },
  "language_info": {
   "codemirror_mode": {
    "name": "ipython",
    "version": 3
   },
   "file_extension": ".py",
   "mimetype": "text/x-python",
   "name": "python",
   "nbconvert_exporter": "python",
   "pygments_lexer": "ipython3",
   "version": "3.13.1"
  }
 },
 "nbformat": 4,
 "nbformat_minor": 5
}
